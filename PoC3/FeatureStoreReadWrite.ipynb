{
 "cells": [
  {
   "cell_type": "code",
   "execution_count": null,
   "id": "e18edd6d-9b5a-4641-8f14-f1efadd51999",
   "metadata": {},
   "outputs": [],
   "source": [
    "import boto3\n",
    "import time\n",
    "\n",
    "\n",
    "region = boto3.Session().region_name\n",
    "\n",
    "boto_session = boto3.Session(region_name=region)\n",
    "\n",
    "athena_client = boto_session.client(service_name=\"athena\", region_name=region)\n",
    "\n",
    "default_s3_bucket_name = \"s3://tim-test-mlops/query_results\""
   ]
  },
  {
   "cell_type": "code",
   "execution_count": 15,
   "id": "49bbad9d-ca59-4019-b560-e6b6bbd9f3fc",
   "metadata": {},
   "outputs": [
    {
     "name": "stdout",
     "output_type": "stream",
     "text": [
      "select id, sum(payment) from \"2024\" group by id;\n",
      "{'QueryExecutionId': '3545220d-bc6a-4095-9de1-1bbe952b45f2', 'ResponseMetadata': {'RequestId': '9b10d929-4e4f-441a-a1d2-a0c3bbec900a', 'HTTPStatusCode': 200, 'HTTPHeaders': {'date': 'Mon, 01 Apr 2024 21:19:26 GMT', 'content-type': 'application/x-amz-json-1.1', 'content-length': '59', 'connection': 'keep-alive', 'x-amzn-requestid': '9b10d929-4e4f-441a-a1d2-a0c3bbec900a'}, 'RetryAttempts': 0}}\n",
      "Query is still running...\n",
      "Query Execution Status: SUCCEEDED\n"
     ]
    }
   ],
   "source": [
    "query = \"select id, sum(payment) from \\\"2024\\\" group by id;\"\n",
    "\n",
    "query_response = athena_client.start_query_execution(\n",
    "    QueryString=query,\n",
    "    QueryExecutionContext={\"Database\": \"tim-test-db\"},\n",
    "    ResultConfiguration={\n",
    "        \"OutputLocation\": default_s3_bucket_name,\n",
    "    },\n",
    ")\n",
    "\n",
    "print(query)\n",
    "print(query_response)\n",
    "\n",
    "# Check query execution status (simple example)\n",
    "query_execution_id = query_response['QueryExecutionId']\n",
    "while True:\n",
    "    query_status = athena_client.get_query_execution(QueryExecutionId=query_execution_id)\n",
    "    query_execution_status = query_status['QueryExecution']['Status']['State']\n",
    "    if query_execution_status in ['SUCCEEDED', 'FAILED', 'CANCELLED']:\n",
    "        print(f\"Query Execution Status: {query_execution_status}\")\n",
    "        if query_execution_status == 'FAILED':\n",
    "            error_message = athena_client.get_query_execution(QueryExecutionId=query_execution_id)['QueryExecution']['Status']['StateChangeReason']\n",
    "            print(f\"Query Failed: {error_message}\")\n",
    "        break\n",
    "    else:\n",
    "        print(f\"Query is still running...\")\n",
    "        time.sleep(5)"
   ]
  },
  {
   "cell_type": "code",
   "execution_count": 16,
   "id": "998888ef-12fd-48bc-ae6b-badb43e05c7e",
   "metadata": {},
   "outputs": [],
   "source": [
    "import pandas as pd\n",
    "\n",
    "S3_BUCKET_NAME = \"tim-test-mlops\"\n",
    "S3_OUTPUT_DIRECTORY = \"query_results\"\n",
    "temp_file_location: str = \"./athena_query_results.csv\"\n",
    "s3_client = boto3.client(\n",
    "    service_name=\"s3\",\n",
    "    region_name=region,\n",
    ")\n",
    "\n",
    "s3_client.download_file(\n",
    "    S3_BUCKET_NAME,\n",
    "    f\"{S3_OUTPUT_DIRECTORY}/{query_response['QueryExecutionId']}.csv\",\n",
    "    temp_file_location,\n",
    ")\n",
    "df = pd.read_csv(temp_file_location)"
   ]
  },
  {
   "cell_type": "code",
   "execution_count": 17,
   "id": "6567870b-46b6-4885-8436-5ce93be3f35f",
   "metadata": {},
   "outputs": [
    {
     "name": "stdout",
     "output_type": "stream",
     "text": [
      "sagemaker.config INFO - Not applying SDK defaults from location: /etc/xdg/sagemaker/config.yaml\n",
      "sagemaker.config INFO - Not applying SDK defaults from location: /home/ec2-user/.config/sagemaker/config.yaml\n"
     ]
    }
   ],
   "source": [
    "import sagemaker\n",
    "from sagemaker.session import Session\n",
    "\n",
    "\n",
    "region = boto3.Session().region_name\n",
    "\n",
    "boto_session = boto3.Session(region_name=region)\n",
    "\n",
    "sagemaker_client = boto_session.client(service_name=\"sagemaker\", region_name=region)\n",
    "featurestore_runtime = boto_session.client(\n",
    "    service_name=\"sagemaker-featurestore-runtime\", region_name=region\n",
    ")\n",
    "\n",
    "feature_store_session = Session(\n",
    "    boto_session=boto_session,\n",
    "    sagemaker_client=sagemaker_client,\n",
    "    sagemaker_featurestore_runtime_client=featurestore_runtime,\n",
    ")"
   ]
  },
  {
   "cell_type": "code",
   "execution_count": 27,
   "id": "a536960b-9e88-4058-927c-35c5503e95e7",
   "metadata": {},
   "outputs": [
    {
     "name": "stdout",
     "output_type": "stream",
     "text": [
      "Available tables: ['customer']\n",
      "Table '2024' does not exist.\n"
     ]
    }
   ],
   "source": [
    "# read dynamodb feature\n",
    "dynamodb = boto3.client('dynamodb')\n",
    "\n",
    "try:\n",
    "    response = dynamodb.list_tables()\n",
    "    table_names = response.get('TableNames', [])\n",
    "    print(\"Available tables:\", table_names)\n",
    "\n",
    "    # Check if the specific table exists\n",
    "    if \"2024\" in table_names:\n",
    "        print(\"Table '2024' exists.\")\n",
    "    else:\n",
    "        print(\"Table '2024' does not exist.\")\n",
    "\n",
    "except Exception as e:\n",
    "    print(\"An error occurred:\", str(e))\n",
    "\n",
    "record = dynamodb.get_item(TableName=\"customer\", Key={'id':{'S':'1'}})"
   ]
  },
  {
   "cell_type": "code",
   "execution_count": 28,
   "id": "f892e56b-38ea-4cc8-ace8-721650c5dad6",
   "metadata": {},
   "outputs": [
    {
     "data": {
      "text/plain": [
       "'2'"
      ]
     },
     "execution_count": 28,
     "metadata": {},
     "output_type": "execute_result"
    }
   ],
   "source": [
    "children=record['Item']['children']['N']\n",
    "children"
   ]
  },
  {
   "cell_type": "code",
   "execution_count": 29,
   "id": "39577d3d-50a6-4405-b9b0-ebd656c67f3b",
   "metadata": {},
   "outputs": [
    {
     "name": "stdout",
     "output_type": "stream",
     "text": [
      "Requirement already satisfied: pandas in /home/ec2-user/anaconda3/envs/python3/lib/python3.10/site-packages (2.2.0)\n",
      "Requirement already satisfied: numpy<2,>=1.22.4 in /home/ec2-user/anaconda3/envs/python3/lib/python3.10/site-packages (from pandas) (1.22.4)\n",
      "Requirement already satisfied: python-dateutil>=2.8.2 in /home/ec2-user/anaconda3/envs/python3/lib/python3.10/site-packages (from pandas) (2.8.2)\n",
      "Requirement already satisfied: pytz>=2020.1 in /home/ec2-user/anaconda3/envs/python3/lib/python3.10/site-packages (from pandas) (2024.1)\n",
      "Requirement already satisfied: tzdata>=2022.7 in /home/ec2-user/anaconda3/envs/python3/lib/python3.10/site-packages (from pandas) (2024.1)\n",
      "Requirement already satisfied: six>=1.5 in /home/ec2-user/anaconda3/envs/python3/lib/python3.10/site-packages (from python-dateutil>=2.8.2->pandas) (1.16.0)\n"
     ]
    }
   ],
   "source": [
    "!pip install pandas"
   ]
  },
  {
   "cell_type": "code",
   "execution_count": 30,
   "id": "a251d7d8-4bf9-4d16-ae6e-2cc80cae1107",
   "metadata": {},
   "outputs": [],
   "source": [
    "# Offline feature from athena\n",
    "import pandas as pd\n",
    "import json\n",
    "churn = pd.read_csv(\"athena_query_results.csv\")"
   ]
  },
  {
   "cell_type": "code",
   "execution_count": 31,
   "id": "23b6357c-cb6a-470d-9966-0a3d15aaef93",
   "metadata": {},
   "outputs": [
    {
     "name": "stdout",
     "output_type": "stream",
     "text": [
      "1\n"
     ]
    }
   ],
   "source": [
    "id = churn['id'].values[0]\n",
    "print(id)"
   ]
  },
  {
   "cell_type": "code",
   "execution_count": 32,
   "id": "56b3acb2-a0b1-4b37-b08a-1462cac1201f",
   "metadata": {},
   "outputs": [
    {
     "data": {
      "text/plain": [
       "2"
      ]
     },
     "execution_count": 32,
     "metadata": {},
     "output_type": "execute_result"
    }
   ],
   "source": [
    "payments = churn[\"_col1\"].values[0]\n",
    "payments"
   ]
  },
  {
   "cell_type": "code",
   "execution_count": 33,
   "id": "f04b904e-f4be-4fa4-a4e9-87a0f5f59b8b",
   "metadata": {},
   "outputs": [],
   "source": [
    "from sagemaker.session import Session\n",
    "region = boto3.Session().region_name\n",
    "sagemaker_session = sagemaker.Session()\n",
    "boto_session = boto3.Session(region_name=region)"
   ]
  },
  {
   "cell_type": "code",
   "execution_count": 41,
   "id": "b006db28-abec-4819-aa7b-2fc04c7e9cda",
   "metadata": {},
   "outputs": [
    {
     "data": {
      "text/html": [
       "<div>\n",
       "<style scoped>\n",
       "    .dataframe tbody tr th:only-of-type {\n",
       "        vertical-align: middle;\n",
       "    }\n",
       "\n",
       "    .dataframe tbody tr th {\n",
       "        vertical-align: top;\n",
       "    }\n",
       "\n",
       "    .dataframe thead th {\n",
       "        text-align: right;\n",
       "    }\n",
       "</style>\n",
       "<table border=\"1\" class=\"dataframe\">\n",
       "  <thead>\n",
       "    <tr style=\"text-align: right;\">\n",
       "      <th></th>\n",
       "      <th>id</th>\n",
       "      <th>children</th>\n",
       "      <th>payments</th>\n",
       "      <th>time</th>\n",
       "    </tr>\n",
       "  </thead>\n",
       "  <tbody>\n",
       "    <tr>\n",
       "      <th>0</th>\n",
       "      <td>1</td>\n",
       "      <td>2</td>\n",
       "      <td>2</td>\n",
       "      <td>2023-07-01T14:59:55.711Z</td>\n",
       "    </tr>\n",
       "  </tbody>\n",
       "</table>\n",
       "</div>"
      ],
      "text/plain": [
       "  id  children  payments                      time\n",
       "0  1         2         2  2023-07-01T14:59:55.711Z"
      ]
     },
     "execution_count": 41,
     "metadata": {},
     "output_type": "execute_result"
    }
   ],
   "source": [
    "# write fo feature store\n",
    "from sagemaker.feature_store.feature_group import FeatureGroup\n",
    "user_feature_group = FeatureGroup(\n",
    "    name=\"customer\", sagemaker_session=sagemaker_session\n",
    ")\n",
    "data = [[str(id), int(children), payments, '2023-07-01T14:59:55.711Z']]\n",
    "df = pd.DataFrame(data, columns=['id', 'children', 'payments', 'time'])\n",
    "df"
   ]
  },
  {
   "cell_type": "code",
   "execution_count": 42,
   "id": "682e15b6",
   "metadata": {},
   "outputs": [
    {
     "name": "stdout",
     "output_type": "stream",
     "text": [
      "['customer']\n"
     ]
    }
   ],
   "source": [
    "sagemaker_client = boto3.client('sagemaker')\n",
    "response = sagemaker_client.list_feature_groups()\n",
    "feature_groups = response['FeatureGroupSummaries']\n",
    "print([fg['FeatureGroupName'] for fg in feature_groups])"
   ]
  },
  {
   "cell_type": "code",
   "execution_count": 43,
   "id": "f48117ec-f102-481f-83d9-a2c66988171a",
   "metadata": {},
   "outputs": [
    {
     "data": {
      "text/plain": [
       "IngestionManagerPandas(feature_group_name='customer', feature_definitions={'children': {'FeatureName': 'children', 'FeatureType': 'String'}, 'payments': {'FeatureName': 'payments', 'FeatureType': 'Integral'}, 'id': {'FeatureName': 'id', 'FeatureType': 'Integral'}, 'time': {'FeatureName': 'time', 'FeatureType': 'String'}}, sagemaker_fs_runtime_client_config=<botocore.config.Config object at 0x7f895942a8f0>, sagemaker_session=<sagemaker.session.Session object at 0x7f8959d62800>, max_workers=3, max_processes=1, profile_name=None, _async_result=<multiprocess.pool.MapResult object at 0x7f8958cb0790>, _processing_pool=<pool ProcessPool(ncpus=1)>, _failed_indices=[])"
      ]
     },
     "execution_count": 43,
     "metadata": {},
     "output_type": "execute_result"
    }
   ],
   "source": [
    "user_feature_group.ingest(data_frame=df, max_workers=3, wait=True)"
   ]
  },
  {
   "cell_type": "code",
   "execution_count": 44,
   "id": "7fbed1b2-33c7-475d-b130-9a72f4bee993",
   "metadata": {},
   "outputs": [
    {
     "data": {
      "text/plain": [
       "{'ResponseMetadata': {'RequestId': '462f2d3a-b8b1-4d66-b5a3-7eb232196604',\n",
       "  'HTTPStatusCode': 200,\n",
       "  'HTTPHeaders': {'x-amzn-requestid': '462f2d3a-b8b1-4d66-b5a3-7eb232196604',\n",
       "   'content-type': 'application/json',\n",
       "   'content-length': '330',\n",
       "   'date': 'Tue, 02 Apr 2024 00:45:10 GMT'},\n",
       "  'RetryAttempts': 0},\n",
       " 'Record': [{'FeatureName': 'children', 'ValueAsString': '2'},\n",
       "  {'FeatureName': 'payments', 'ValueAsString': '2'},\n",
       "  {'FeatureName': 'id', 'ValueAsString': '1'},\n",
       "  {'FeatureName': 'time', 'ValueAsString': '2023-07-01T14:59:55.711Z'}]}"
      ]
     },
     "execution_count": 44,
     "metadata": {},
     "output_type": "execute_result"
    }
   ],
   "source": [
    "# read from feature store\n",
    "record_identifier_value = str(1)\n",
    "\n",
    "record = featurestore_runtime.get_record(\n",
    "    FeatureGroupName=\"customer\",\n",
    "    RecordIdentifierValueAsString=record_identifier_value,\n",
    ")\n",
    "record"
   ]
  },
  {
   "cell_type": "code",
   "execution_count": 45,
   "id": "3c335606-722a-49d7-a7a8-40d0a3d5bafa",
   "metadata": {},
   "outputs": [
    {
     "data": {
      "text/plain": [
       "'2'"
      ]
     },
     "execution_count": 45,
     "metadata": {},
     "output_type": "execute_result"
    }
   ],
   "source": [
    "record['Record'][1]['ValueAsString']"
   ]
  },
  {
   "cell_type": "code",
   "execution_count": null,
   "id": "4db9425a",
   "metadata": {},
   "outputs": [],
   "source": []
  }
 ],
 "metadata": {
  "kernelspec": {
   "display_name": "conda_python3",
   "language": "python",
   "name": "conda_python3"
  },
  "language_info": {
   "codemirror_mode": {
    "name": "ipython",
    "version": 3
   },
   "file_extension": ".py",
   "mimetype": "text/x-python",
   "name": "python",
   "nbconvert_exporter": "python",
   "pygments_lexer": "ipython3",
   "version": "3.10.13"
  }
 },
 "nbformat": 4,
 "nbformat_minor": 5
}
